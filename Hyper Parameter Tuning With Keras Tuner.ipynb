{
 "cells": [
  {
   "cell_type": "markdown",
   "id": "d94aa3c1",
   "metadata": {},
   "source": [
    "### Import Statments "
   ]
  },
  {
   "cell_type": "code",
   "execution_count": 41,
   "id": "0cbf0bc4",
   "metadata": {},
   "outputs": [],
   "source": [
    "import pandas as pd\n",
    "import keras\n",
    "import keras_tuner\n",
    "from keras import layers\n",
    "from keras_tuner import RandomSearch\n",
    "from sklearn.model_selection import train_test_split"
   ]
  },
  {
   "cell_type": "markdown",
   "id": "35541925",
   "metadata": {},
   "source": [
    "### Import Data"
   ]
  },
  {
   "cell_type": "code",
   "execution_count": 65,
   "id": "c362ea27",
   "metadata": {},
   "outputs": [
    {
     "data": {
      "text/html": [
       "<div>\n",
       "<style scoped>\n",
       "    .dataframe tbody tr th:only-of-type {\n",
       "        vertical-align: middle;\n",
       "    }\n",
       "\n",
       "    .dataframe tbody tr th {\n",
       "        vertical-align: top;\n",
       "    }\n",
       "\n",
       "    .dataframe thead th {\n",
       "        text-align: right;\n",
       "    }\n",
       "</style>\n",
       "<table border=\"1\" class=\"dataframe\">\n",
       "  <thead>\n",
       "    <tr style=\"text-align: right;\">\n",
       "      <th></th>\n",
       "      <th>T</th>\n",
       "      <th>TM</th>\n",
       "      <th>Tm</th>\n",
       "      <th>SLP</th>\n",
       "      <th>H</th>\n",
       "      <th>VV</th>\n",
       "      <th>V</th>\n",
       "      <th>VM</th>\n",
       "      <th>PM 2.5</th>\n",
       "    </tr>\n",
       "  </thead>\n",
       "  <tbody>\n",
       "    <tr>\n",
       "      <th>0</th>\n",
       "      <td>7.4</td>\n",
       "      <td>9.8</td>\n",
       "      <td>4.8</td>\n",
       "      <td>1017.6</td>\n",
       "      <td>93.0</td>\n",
       "      <td>0.5</td>\n",
       "      <td>4.3</td>\n",
       "      <td>9.4</td>\n",
       "      <td>219.720833</td>\n",
       "    </tr>\n",
       "    <tr>\n",
       "      <th>1</th>\n",
       "      <td>7.8</td>\n",
       "      <td>12.7</td>\n",
       "      <td>4.4</td>\n",
       "      <td>1018.5</td>\n",
       "      <td>87.0</td>\n",
       "      <td>0.6</td>\n",
       "      <td>4.4</td>\n",
       "      <td>11.1</td>\n",
       "      <td>182.187500</td>\n",
       "    </tr>\n",
       "    <tr>\n",
       "      <th>2</th>\n",
       "      <td>6.7</td>\n",
       "      <td>13.4</td>\n",
       "      <td>2.4</td>\n",
       "      <td>1019.4</td>\n",
       "      <td>82.0</td>\n",
       "      <td>0.6</td>\n",
       "      <td>4.8</td>\n",
       "      <td>11.1</td>\n",
       "      <td>154.037500</td>\n",
       "    </tr>\n",
       "    <tr>\n",
       "      <th>3</th>\n",
       "      <td>8.6</td>\n",
       "      <td>15.5</td>\n",
       "      <td>3.3</td>\n",
       "      <td>1018.7</td>\n",
       "      <td>72.0</td>\n",
       "      <td>0.8</td>\n",
       "      <td>8.1</td>\n",
       "      <td>20.6</td>\n",
       "      <td>223.208333</td>\n",
       "    </tr>\n",
       "    <tr>\n",
       "      <th>4</th>\n",
       "      <td>12.4</td>\n",
       "      <td>20.9</td>\n",
       "      <td>4.4</td>\n",
       "      <td>1017.3</td>\n",
       "      <td>61.0</td>\n",
       "      <td>1.3</td>\n",
       "      <td>8.7</td>\n",
       "      <td>22.2</td>\n",
       "      <td>200.645833</td>\n",
       "    </tr>\n",
       "  </tbody>\n",
       "</table>\n",
       "</div>"
      ],
      "text/plain": [
       "      T    TM   Tm     SLP     H   VV    V    VM      PM 2.5\n",
       "0   7.4   9.8  4.8  1017.6  93.0  0.5  4.3   9.4  219.720833\n",
       "1   7.8  12.7  4.4  1018.5  87.0  0.6  4.4  11.1  182.187500\n",
       "2   6.7  13.4  2.4  1019.4  82.0  0.6  4.8  11.1  154.037500\n",
       "3   8.6  15.5  3.3  1018.7  72.0  0.8  8.1  20.6  223.208333\n",
       "4  12.4  20.9  4.4  1017.3  61.0  1.3  8.7  22.2  200.645833"
      ]
     },
     "execution_count": 65,
     "metadata": {},
     "output_type": "execute_result"
    }
   ],
   "source": [
    "df = pd.read_csv('Real_Combine.csv')\n",
    "df.head()"
   ]
  },
  {
   "cell_type": "code",
   "execution_count": 69,
   "id": "e93994e6",
   "metadata": {},
   "outputs": [],
   "source": [
    "# drop null values\n",
    "df.dropna(inplace=True)"
   ]
  },
  {
   "cell_type": "code",
   "execution_count": 71,
   "id": "696cdaf4",
   "metadata": {},
   "outputs": [],
   "source": [
    "# split dataset into X and y \n",
    "X = df.iloc[:,:-1]\n",
    "y = df.iloc[:, -1]"
   ]
  },
  {
   "cell_type": "code",
   "execution_count": 72,
   "id": "64e8b177",
   "metadata": {},
   "outputs": [],
   "source": [
    "# split dataset into training and testing dataset\n",
    "X_train, X_test, y_train, y_test = train_test_split(X,y,test_size=0.3, random_state=42)"
   ]
  },
  {
   "cell_type": "code",
   "execution_count": 73,
   "id": "5cf28a7f",
   "metadata": {},
   "outputs": [],
   "source": [
    "# build model\n",
    "def build_model(hp):\n",
    "    # instantiate sequential model\n",
    "    model = keras.Sequential()\n",
    "    \n",
    "    # tune the number of layers\n",
    "    for i in range(hp.Int('num_layers', 2, 20)):\n",
    "        model.add(\n",
    "            layers.Dense(\n",
    "                # Tune number of units separately\n",
    "                units=hp.Int(f\"unit_{i}\", min_value=32, max_value=512, step=32),\n",
    "                activation='relu'),\n",
    "            )\n",
    "    # Add final output layer\n",
    "    model.add(layers.Dense(units=1, activation='linear'))\n",
    "    \n",
    "    model.compile(optimizer=keras.optimizers.Adam( # Tune the learning rate to use\n",
    "                                                    learning_rate=hp.Choice('learning_rate', [1e-2, 1e-3, 1e-4])\n",
    "                    ),\n",
    "                  loss='mean_absolute_error',\n",
    "                  metrics=[keras.metrics.MeanAbsoluteError()]\n",
    "                 )\n",
    "    return model"
   ]
  },
  {
   "cell_type": "code",
   "execution_count": 74,
   "id": "455e5acd",
   "metadata": {},
   "outputs": [],
   "source": [
    "# Initialize tuner\n",
    "tuner = RandomSearch(\n",
    "        hypermodel=build_model,\n",
    "        objective=keras_tuner.Objective(\"val_mean_absolute_error\", direction=\"min\"),\n",
    "        max_trials=5,\n",
    "        executions_per_trial=3,\n",
    "        overwrite=True,\n",
    "        directory='project1',\n",
    "        project_name='Air Quality Index',\n",
    "        )"
   ]
  },
  {
   "cell_type": "code",
   "execution_count": 75,
   "id": "3450220d",
   "metadata": {},
   "outputs": [
    {
     "name": "stdout",
     "output_type": "stream",
     "text": [
      "Search space summary\n",
      "Default search space size: 4\n",
      "num_layers (Int)\n",
      "{'default': None, 'conditions': [], 'min_value': 2, 'max_value': 20, 'step': 1, 'sampling': None}\n",
      "unit_0 (Int)\n",
      "{'default': None, 'conditions': [], 'min_value': 32, 'max_value': 512, 'step': 32, 'sampling': None}\n",
      "unit_1 (Int)\n",
      "{'default': None, 'conditions': [], 'min_value': 32, 'max_value': 512, 'step': 32, 'sampling': None}\n",
      "learning_rate (Choice)\n",
      "{'default': 0.01, 'conditions': [], 'values': [0.01, 0.001, 0.0001], 'ordered': True}\n"
     ]
    }
   ],
   "source": [
    "# Print summary of search space\n",
    "tuner.search_space_summary()"
   ]
  },
  {
   "cell_type": "code",
   "execution_count": 76,
   "id": "83845119",
   "metadata": {},
   "outputs": [
    {
     "name": "stdout",
     "output_type": "stream",
     "text": [
      "Trial 5 Complete [00h 00m 14s]\n",
      "val_mean_absolute_error: 48.58720143636068\n",
      "\n",
      "Best val_mean_absolute_error So Far: 44.03432846069336\n",
      "Total elapsed time: 00h 01m 01s\n",
      "INFO:tensorflow:Oracle triggered exit\n"
     ]
    }
   ],
   "source": [
    "# start search for best parameter\n",
    "tuner.search(X_train, y_train, epochs=5, validation_data=(X_test, y_test))"
   ]
  },
  {
   "cell_type": "code",
   "execution_count": 77,
   "id": "d6bbbf55",
   "metadata": {},
   "outputs": [
    {
     "name": "stdout",
     "output_type": "stream",
     "text": [
      "Results summary\n",
      "Results in project1\\Air Quality Index\n",
      "Showing 10 best trials\n",
      "<keras_tuner.engine.objective.Objective object at 0x0000020C0AF820D0>\n",
      "Trial summary\n",
      "Hyperparameters:\n",
      "num_layers: 6\n",
      "unit_0: 192\n",
      "unit_1: 160\n",
      "learning_rate: 0.01\n",
      "unit_2: 64\n",
      "unit_3: 512\n",
      "unit_4: 480\n",
      "unit_5: 64\n",
      "unit_6: 384\n",
      "unit_7: 128\n",
      "unit_8: 224\n",
      "unit_9: 416\n",
      "unit_10: 384\n",
      "unit_11: 192\n",
      "unit_12: 256\n",
      "unit_13: 256\n",
      "unit_14: 288\n",
      "unit_15: 160\n",
      "unit_16: 128\n",
      "unit_17: 224\n",
      "unit_18: 416\n",
      "Score: 44.03432846069336\n",
      "Trial summary\n",
      "Hyperparameters:\n",
      "num_layers: 14\n",
      "unit_0: 480\n",
      "unit_1: 160\n",
      "learning_rate: 0.01\n",
      "unit_2: 448\n",
      "unit_3: 224\n",
      "unit_4: 320\n",
      "unit_5: 192\n",
      "unit_6: 160\n",
      "unit_7: 384\n",
      "unit_8: 64\n",
      "unit_9: 416\n",
      "unit_10: 352\n",
      "unit_11: 192\n",
      "unit_12: 480\n",
      "unit_13: 256\n",
      "unit_14: 64\n",
      "unit_15: 96\n",
      "unit_16: 448\n",
      "unit_17: 256\n",
      "unit_18: 256\n",
      "Score: 48.58720143636068\n",
      "Trial summary\n",
      "Hyperparameters:\n",
      "num_layers: 12\n",
      "unit_0: 384\n",
      "unit_1: 256\n",
      "learning_rate: 0.001\n",
      "unit_2: 384\n",
      "unit_3: 96\n",
      "unit_4: 32\n",
      "unit_5: 32\n",
      "unit_6: 32\n",
      "unit_7: 32\n",
      "unit_8: 32\n",
      "unit_9: 32\n",
      "unit_10: 32\n",
      "unit_11: 32\n",
      "Score: 59.95540110270182\n",
      "Trial summary\n",
      "Hyperparameters:\n",
      "num_layers: 4\n",
      "unit_0: 128\n",
      "unit_1: 448\n",
      "learning_rate: 0.0001\n",
      "unit_2: 32\n",
      "unit_3: 32\n",
      "Score: 60.912671407063804\n",
      "Trial summary\n",
      "Hyperparameters:\n",
      "num_layers: 19\n",
      "unit_0: 128\n",
      "unit_1: 160\n",
      "learning_rate: 0.0001\n",
      "unit_2: 128\n",
      "unit_3: 288\n",
      "unit_4: 416\n",
      "unit_5: 96\n",
      "unit_6: 320\n",
      "unit_7: 352\n",
      "unit_8: 416\n",
      "unit_9: 96\n",
      "unit_10: 480\n",
      "unit_11: 384\n",
      "unit_12: 32\n",
      "unit_13: 32\n",
      "unit_14: 32\n",
      "unit_15: 32\n",
      "unit_16: 32\n",
      "unit_17: 32\n",
      "unit_18: 32\n",
      "Score: 61.149208068847656\n"
     ]
    }
   ],
   "source": [
    "# print search results\n",
    "tuner.results_summary()"
   ]
  },
  {
   "cell_type": "code",
   "execution_count": 85,
   "id": "f7e1a08a",
   "metadata": {},
   "outputs": [],
   "source": [
    "# get the best models\n",
    "models = tuner.get_best_models()\n",
    "\n",
    "# get the best model\n",
    "best_model = models[0]"
   ]
  },
  {
   "cell_type": "code",
   "execution_count": 87,
   "id": "c94ac240",
   "metadata": {},
   "outputs": [],
   "source": [
    "# build best model \n",
    "best_model.build(X_train.shape)"
   ]
  },
  {
   "cell_type": "code",
   "execution_count": 88,
   "id": "938344b6",
   "metadata": {},
   "outputs": [
    {
     "name": "stdout",
     "output_type": "stream",
     "text": [
      "Model: \"sequential\"\n",
      "_________________________________________________________________\n",
      " Layer (type)                Output Shape              Param #   \n",
      "=================================================================\n",
      " dense (Dense)               (764, 192)                1728      \n",
      "                                                                 \n",
      " dense_1 (Dense)             (764, 160)                30880     \n",
      "                                                                 \n",
      " dense_2 (Dense)             (764, 64)                 10304     \n",
      "                                                                 \n",
      " dense_3 (Dense)             (764, 512)                33280     \n",
      "                                                                 \n",
      " dense_4 (Dense)             (764, 480)                246240    \n",
      "                                                                 \n",
      " dense_5 (Dense)             (764, 64)                 30784     \n",
      "                                                                 \n",
      " dense_6 (Dense)             (764, 1)                  65        \n",
      "                                                                 \n",
      "=================================================================\n",
      "Total params: 353,281\n",
      "Trainable params: 353,281\n",
      "Non-trainable params: 0\n",
      "_________________________________________________________________\n"
     ]
    }
   ],
   "source": [
    "# print summary of model\n",
    "best_model.summary()"
   ]
  },
  {
   "cell_type": "code",
   "execution_count": null,
   "id": "d10423a4",
   "metadata": {},
   "outputs": [],
   "source": []
  }
 ],
 "metadata": {
  "kernelspec": {
   "display_name": "Python 3 (ipykernel)",
   "language": "python",
   "name": "python3"
  },
  "language_info": {
   "codemirror_mode": {
    "name": "ipython",
    "version": 3
   },
   "file_extension": ".py",
   "mimetype": "text/x-python",
   "name": "python",
   "nbconvert_exporter": "python",
   "pygments_lexer": "ipython3",
   "version": "3.9.13"
  }
 },
 "nbformat": 4,
 "nbformat_minor": 5
}
